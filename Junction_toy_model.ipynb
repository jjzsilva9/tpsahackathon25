{
 "cells": [
  {
   "cell_type": "code",
   "execution_count": 18,
   "id": "f040b31b",
   "metadata": {},
   "outputs": [],
   "source": [
    "import numpy as np"
   ]
  },
  {
   "cell_type": "code",
   "execution_count": null,
   "id": "0bdc0966",
   "metadata": {},
   "outputs": [],
   "source": [
    "N_1a=100\n",
    "N_2a=0\n",
    "N_3a=0\n",
    "N_4a=0\n",
    "N_1b=300\n",
    "N_2b=0\n",
    "p_1a=1\n",
    "p_2a=1\n",
    "p_3a=20\n",
    "p_4a=30\n",
    "p_1b=1\n",
    "p_2b=1\n",
    "\n",
    "\n"
   ]
  },
  {
   "cell_type": "code",
   "execution_count": 31,
   "id": "b385970c",
   "metadata": {},
   "outputs": [],
   "source": [
    "\n",
    "a_1=N_1a\n",
    "a_2=N_2a+p_4a\n",
    "a_3=N_3a+p_2b\n",
    "a_4=N_4a+p_1a\n",
    "b_1=N_1b\n",
    "b_2=N_2b+p_2a\n"
   ]
  },
  {
   "cell_type": "code",
   "execution_count": 32,
   "id": "aa3bc2ca",
   "metadata": {},
   "outputs": [],
   "source": [
    "I=20\n",
    "I_a=[0,0]\n",
    "I_b=[0,0]\n",
    "if N_1a>=20:\n",
    "    I_a[0]=20\n",
    "else:\n",
    "    I_a[0]=N_1a\n",
    "if N_3a>=20:\n",
    "    I_a[1]=20\n",
    "else:\n",
    "    I_a[1]=N_3a\n",
    "if N_1b>=20:\n",
    "    I_b[0]=20\n",
    "else:\n",
    "    I_b[0]=N_1b\n",
    "if N_4a>=20:\n",
    "    I_b[1]=20\n",
    "else:\n",
    "    I_b[1]=N_4a\n",
    "\n",
    "\n",
    "\n"
   ]
  },
  {
   "cell_type": "code",
   "execution_count": 33,
   "id": "2e55c1db",
   "metadata": {},
   "outputs": [],
   "source": [
    "D_a=[[-1,0],[a_4/(a_2+a_4),a_4/(a_2+a_4)],[0,-1],[a_2/(a_2+a_4),a_2/(a_2+a_4)]]\n",
    "D_b=[[-1,0],[a_3/(b_2+a_3),a_3/(b_2+a_3)],[b_2/(b_2+a_3),b_2/(b_2+a_3)],[0,-1]]\n"
   ]
  },
  {
   "cell_type": "code",
   "execution_count": 34,
   "id": "67180a1a",
   "metadata": {},
   "outputs": [
    {
     "name": "stdout",
     "output_type": "stream",
     "text": [
      "[-20.          11.97343454 -10.          18.02656546]\n",
      "[-20.          19.67741935  19.67741935 -19.35483871]\n"
     ]
    }
   ],
   "source": [
    "da=np.dot(D_a,I_a)\n",
    "print(da)\n",
    "db=np.dot(D_b,I_b)\n",
    "print(db)"
   ]
  },
  {
   "cell_type": "code",
   "execution_count": 35,
   "id": "e40ee921",
   "metadata": {},
   "outputs": [],
   "source": [
    "N_1a+=da[0]\n",
    "N_2a+=da[1]\n",
    "N_3a+=da[2]+db[2]\n",
    "N_4a+=da[3]+db[3]\n",
    "N_1b+=db[0]\n",
    "N_2b+=db[1]"
   ]
  },
  {
   "cell_type": "code",
   "execution_count": 36,
   "id": "b838794f",
   "metadata": {},
   "outputs": [
    {
     "name": "stdout",
     "output_type": "stream",
     "text": [
      "60.0\n",
      "12.618595825426944\n",
      "19.67741935483871\n",
      "18.026565464895633\n",
      "260.0\n",
      "29.67741935483871\n"
     ]
    }
   ],
   "source": [
    "print(N_1a)\n",
    "print(N_2a)\n",
    "print(N_3a)\n",
    "print(N_4a)\n",
    "print(N_1b)\n",
    "print(N_2b)"
   ]
  },
  {
   "cell_type": "code",
   "execution_count": null,
   "id": "78cc6544",
   "metadata": {},
   "outputs": [],
   "source": []
  }
 ],
 "metadata": {
  "kernelspec": {
   "display_name": "Python (jwst_env)",
   "language": "python",
   "name": "jwst_env"
  },
  "language_info": {
   "codemirror_mode": {
    "name": "ipython",
    "version": 3
   },
   "file_extension": ".py",
   "mimetype": "text/x-python",
   "name": "python",
   "nbconvert_exporter": "python",
   "pygments_lexer": "ipython3",
   "version": "3.10.16"
  }
 },
 "nbformat": 4,
 "nbformat_minor": 5
}
